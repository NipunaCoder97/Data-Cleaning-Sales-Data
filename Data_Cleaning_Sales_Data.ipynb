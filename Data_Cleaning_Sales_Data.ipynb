{
  "cells": [
    {
      "cell_type": "markdown",
      "metadata": {
        "id": "view-in-github",
        "colab_type": "text"
      },
      "source": [
        "<a href=\"https://colab.research.google.com/github/NipunaCoder97/Data-Cleaning-Sales-Data/blob/main/Data_Cleaning_Sales_Data.ipynb\" target=\"_parent\"><img src=\"https://colab.research.google.com/assets/colab-badge.svg\" alt=\"Open In Colab\"/></a>"
      ]
    },
    {
      "cell_type": "markdown",
      "metadata": {
        "id": "j7okWMNpjcK5"
      },
      "source": [
        "Import Necessary Libraries"
      ]
    },
    {
      "cell_type": "code",
      "execution_count": null,
      "metadata": {
        "id": "HsSFSWnQjcLG"
      },
      "outputs": [],
      "source": [
        "import pandas as pd\n",
        "import numpy as np\n",
        "import matplotlib.pyplot as plt\n",
        "import seaborn as sns\n",
        "import os"
      ]
    },
    {
      "cell_type": "markdown",
      "metadata": {
        "id": "wn-bmluzjcLL"
      },
      "source": [
        "Import Datasets"
      ]
    },
    {
      "cell_type": "code",
      "execution_count": null,
      "metadata": {
        "id": "-35cw7tcjcLN"
      },
      "outputs": [],
      "source": [
        "#Separately import datasets\n",
        "\n",
        "actual_matrix=pd.read_csv(\"Dataset/actual_matrix.csv\")\n",
        "catalog=pd.read_csv(\"Dataset/catalog.csv\")\n",
        "discounts_history=pd.read_csv(\"Dataset/discounts_history.csv\")\n",
        "markdowns=pd.read_csv(\"Dataset/markdowns.csv\")\n",
        "online=pd.read_csv(\"Dataset/online.csv\")\n",
        "price_history=pd.read_csv(\"Dataset/price_history.csv\")\n",
        "sales=pd.read_csv(\"Dataset/sales.csv\")\n",
        "sample_submission=pd.read_csv(\"Dataset/sample_submission.csv\")\n",
        "store=pd.read_csv(\"Dataset/stores.csv\")\n",
        "test=pd.read_csv(\"Dataset/test.csv\",sep=';')"
      ]
    },
    {
      "cell_type": "markdown",
      "metadata": {
        "id": "Uh2Ix6cQjcLQ"
      },
      "source": [
        "Identify the test data set features"
      ]
    },
    {
      "cell_type": "code",
      "execution_count": null,
      "metadata": {
        "id": "GZJZ8DcZjcLR",
        "outputId": "17e47add-0a76-4aef-e3eb-7cf365cdfcb6"
      },
      "outputs": [
        {
          "data": {
            "text/html": [
              "<div>\n",
              "<style scoped>\n",
              "    .dataframe tbody tr th:only-of-type {\n",
              "        vertical-align: middle;\n",
              "    }\n",
              "\n",
              "    .dataframe tbody tr th {\n",
              "        vertical-align: top;\n",
              "    }\n",
              "\n",
              "    .dataframe thead th {\n",
              "        text-align: right;\n",
              "    }\n",
              "</style>\n",
              "<table border=\"1\" class=\"dataframe\">\n",
              "  <thead>\n",
              "    <tr style=\"text-align: right;\">\n",
              "      <th></th>\n",
              "      <th>row_id</th>\n",
              "      <th>item_id</th>\n",
              "      <th>store_id</th>\n",
              "      <th>date</th>\n",
              "    </tr>\n",
              "  </thead>\n",
              "  <tbody>\n",
              "    <tr>\n",
              "      <th>0</th>\n",
              "      <td>0</td>\n",
              "      <td>c578da8e8841</td>\n",
              "      <td>1</td>\n",
              "      <td>27.09.2024</td>\n",
              "    </tr>\n",
              "    <tr>\n",
              "      <th>1</th>\n",
              "      <td>1</td>\n",
              "      <td>c578da8e8841</td>\n",
              "      <td>1</td>\n",
              "      <td>28.09.2024</td>\n",
              "    </tr>\n",
              "    <tr>\n",
              "      <th>2</th>\n",
              "      <td>2</td>\n",
              "      <td>c578da8e8841</td>\n",
              "      <td>1</td>\n",
              "      <td>29.09.2024</td>\n",
              "    </tr>\n",
              "    <tr>\n",
              "      <th>3</th>\n",
              "      <td>3</td>\n",
              "      <td>c578da8e8841</td>\n",
              "      <td>1</td>\n",
              "      <td>30.09.2024</td>\n",
              "    </tr>\n",
              "    <tr>\n",
              "      <th>4</th>\n",
              "      <td>4</td>\n",
              "      <td>c578da8e8841</td>\n",
              "      <td>1</td>\n",
              "      <td>01.10.2024</td>\n",
              "    </tr>\n",
              "  </tbody>\n",
              "</table>\n",
              "</div>"
            ],
            "text/plain": [
              "   row_id       item_id  store_id        date\n",
              "0       0  c578da8e8841         1  27.09.2024\n",
              "1       1  c578da8e8841         1  28.09.2024\n",
              "2       2  c578da8e8841         1  29.09.2024\n",
              "3       3  c578da8e8841         1  30.09.2024\n",
              "4       4  c578da8e8841         1  01.10.2024"
            ]
          },
          "execution_count": 77,
          "metadata": {},
          "output_type": "execute_result"
        }
      ],
      "source": [
        "test.head()\n",
        "#The data frame has {\"row_id, item_id, store_id, date\"}. According to the test data set there are several items with store id and the sale date.\n",
        "#whe predicting the demand according to the product, the store id will not be a feature impact on the model.\n",
        "#If we group this data set according to the dataset, this will be univariate time series forecasting approach.\n",
        "#The model need to predict the quantity of the item need in future"
      ]
    },
    {
      "cell_type": "code",
      "execution_count": null,
      "metadata": {
        "id": "EGDmUGBYjcLV",
        "outputId": "27dbd604-2ff1-4584-c683-4c11f4822038"
      },
      "outputs": [
        {
          "data": {
            "text/plain": [
              "Index(['Unnamed: 0', 'date', 'item_id', 'quantity', 'price_base', 'sum_total',\n",
              "       'store_id'],\n",
              "      dtype='object')"
            ]
          },
          "execution_count": 78,
          "metadata": {},
          "output_type": "execute_result"
        }
      ],
      "source": [
        "online.columns"
      ]
    },
    {
      "cell_type": "code",
      "execution_count": null,
      "metadata": {
        "id": "EvFLUqX4jcLW",
        "outputId": "fba0841c-311a-48ee-90d6-4329e84b2345"
      },
      "outputs": [
        {
          "data": {
            "text/plain": [
              "Index(['Unnamed: 0', 'date', 'item_id', 'quantity', 'price_base', 'sum_total',\n",
              "       'store_id'],\n",
              "      dtype='object')"
            ]
          },
          "execution_count": 79,
          "metadata": {},
          "output_type": "execute_result"
        }
      ],
      "source": [
        "sales.columns"
      ]
    },
    {
      "cell_type": "markdown",
      "metadata": {
        "id": "FTZMkb5XjcLX"
      },
      "source": [
        "The forecasting consider only the amount of the items need in future. Therefore, no need to forecast under different buckets such as online and sale buckets. Therefore, I merge two dataframes into one dataframe to develop the model."
      ]
    },
    {
      "cell_type": "code",
      "execution_count": null,
      "metadata": {
        "id": "CumegauFjcLY",
        "outputId": "18132f13-d3aa-46d3-aa72-03c7fa41144d"
      },
      "outputs": [
        {
          "data": {
            "text/plain": [
              "((7432685, 7), (1123412, 7))"
            ]
          },
          "execution_count": 80,
          "metadata": {},
          "output_type": "execute_result"
        }
      ],
      "source": [
        "sales.shape, online.shape"
      ]
    },
    {
      "cell_type": "code",
      "execution_count": null,
      "metadata": {
        "id": "qMnc0RbgjcLY"
      },
      "outputs": [],
      "source": [
        "df_combined = pd.concat([online, sales], ignore_index=True)"
      ]
    },
    {
      "cell_type": "code",
      "execution_count": null,
      "metadata": {
        "id": "NJKn5y_5jcLZ",
        "outputId": "afe63ee6-eb84-4502-e739-188759dd2d34"
      },
      "outputs": [
        {
          "data": {
            "text/plain": [
              "(8556097, 7)"
            ]
          },
          "execution_count": 82,
          "metadata": {},
          "output_type": "execute_result"
        }
      ],
      "source": [
        "df_combined.shape"
      ]
    },
    {
      "cell_type": "code",
      "execution_count": null,
      "metadata": {
        "id": "lmRB6NnvjcLZ"
      },
      "outputs": [],
      "source": [
        "Item_List = list(df_combined[\"item_id\"].unique())"
      ]
    },
    {
      "cell_type": "code",
      "execution_count": null,
      "metadata": {
        "id": "o4Cx-sFmjcLa",
        "outputId": "a9775165-0c19-4db8-b303-8acf0fb72de1"
      },
      "outputs": [
        {
          "data": {
            "text/plain": [
              "28323"
            ]
          },
          "execution_count": 84,
          "metadata": {},
          "output_type": "execute_result"
        }
      ],
      "source": [
        "len(Item_List)"
      ]
    },
    {
      "cell_type": "code",
      "execution_count": null,
      "metadata": {
        "id": "pKQNS8FAjcLa",
        "outputId": "8cd63702-66cd-4957-f5cd-3ad4a2c71d4c"
      },
      "outputs": [
        {
          "name": "stdout",
          "output_type": "stream",
          "text": [
            "<class 'pandas.core.frame.DataFrame'>\n",
            "RangeIndex: 8556097 entries, 0 to 8556096\n",
            "Data columns (total 7 columns):\n",
            " #   Column      Dtype  \n",
            "---  ------      -----  \n",
            " 0   Unnamed: 0  int64  \n",
            " 1   date        object \n",
            " 2   item_id     object \n",
            " 3   quantity    float64\n",
            " 4   price_base  float64\n",
            " 5   sum_total   float64\n",
            " 6   store_id    int64  \n",
            "dtypes: float64(3), int64(2), object(2)\n",
            "memory usage: 456.9+ MB\n"
          ]
        }
      ],
      "source": [
        "df_combined.info()"
      ]
    },
    {
      "cell_type": "code",
      "execution_count": null,
      "metadata": {
        "id": "e3zAdT1wjcLb",
        "outputId": "1a66dc42-0538-4a11-c068-fb6d506e4e9e"
      },
      "outputs": [
        {
          "data": {
            "text/plain": [
              "Unnamed: 0    0\n",
              "date          0\n",
              "item_id       0\n",
              "quantity      0\n",
              "price_base    0\n",
              "sum_total     0\n",
              "store_id      0\n",
              "dtype: int64"
            ]
          },
          "execution_count": 86,
          "metadata": {},
          "output_type": "execute_result"
        }
      ],
      "source": [
        "df_combined.isnull().sum()"
      ]
    },
    {
      "cell_type": "code",
      "execution_count": null,
      "metadata": {
        "id": "t6z-yrADjcLb"
      },
      "outputs": [],
      "source": [
        "train_df = df_combined[[\"date\",\"item_id\",\"store_id\",\"quantity\"]]"
      ]
    },
    {
      "cell_type": "code",
      "execution_count": null,
      "metadata": {
        "id": "fKf_coIyjcLc",
        "outputId": "89988c1b-3d43-4325-b569-62fd67cfa036"
      },
      "outputs": [
        {
          "data": {
            "text/plain": [
              "(               date       item_id  store_id  quantity\n",
              " 8556092  2024-09-26  542f4875a846         4       2.0\n",
              " 8556093  2024-09-26  3c7435256b1f         4       2.0\n",
              " 8556094  2024-09-26  87b794255afc         4       6.0\n",
              " 8556095  2024-09-26  0a832c545a6a         4       1.0\n",
              " 8556096  2024-09-26  c304e866ad10         4       1.0,\n",
              "          date       item_id  store_id  quantity\n",
              " 0  2023-08-04  4aa8dbe05246         1       3.0\n",
              " 1  2023-08-04  4e0fbcf99cf9         1       2.0\n",
              " 2  2023-08-04  2e008b673129         1       2.0\n",
              " 3  2023-08-04  49db9c973903         1       1.0\n",
              " 4  2023-08-04  9d6072422e8e         1       1.0)"
            ]
          },
          "execution_count": 88,
          "metadata": {},
          "output_type": "execute_result"
        }
      ],
      "source": [
        "train_df.tail(), train_df.head()\n",
        "\n",
        "#The data set has data from 2023-08-04 to 2024-09-26"
      ]
    },
    {
      "cell_type": "markdown",
      "metadata": {
        "id": "b2oSRyqgjcLc"
      },
      "source": [
        "Now need to transform data into relavent data types"
      ]
    },
    {
      "cell_type": "code",
      "execution_count": null,
      "metadata": {
        "id": "iKWkHzmNjcLd",
        "outputId": "1d830816-d2f3-440d-a502-4721a7f34ab7"
      },
      "outputs": [
        {
          "name": "stderr",
          "output_type": "stream",
          "text": [
            "C:\\Users\\asus\\AppData\\Local\\Temp\\ipykernel_15680\\1999329847.py:1: SettingWithCopyWarning: \n",
            "A value is trying to be set on a copy of a slice from a DataFrame.\n",
            "Try using .loc[row_indexer,col_indexer] = value instead\n",
            "\n",
            "See the caveats in the documentation: https://pandas.pydata.org/pandas-docs/stable/user_guide/indexing.html#returning-a-view-versus-a-copy\n",
            "  train_df[\"date\"] = pd.to_datetime(train_df[\"date\"])\n",
            "C:\\Users\\asus\\AppData\\Local\\Temp\\ipykernel_15680\\1999329847.py:2: UserWarning: Parsing dates in DD/MM/YYYY format when dayfirst=False (the default) was specified. This may lead to inconsistently parsed dates! Specify a format to ensure consistent parsing.\n",
            "  test['date'] = pd.to_datetime(test['date'])\n"
          ]
        }
      ],
      "source": [
        "train_df[\"date\"] = pd.to_datetime(train_df[\"date\"])\n",
        "test['date'] = pd.to_datetime(test['date'])"
      ]
    },
    {
      "cell_type": "code",
      "execution_count": null,
      "metadata": {
        "id": "Zc8Ex5ZCjcLd",
        "outputId": "e985398c-ee83-45b4-ee8f-039d663039be"
      },
      "outputs": [
        {
          "name": "stderr",
          "output_type": "stream",
          "text": [
            "C:\\Users\\asus\\AppData\\Local\\Temp\\ipykernel_15680\\2250947963.py:1: SettingWithCopyWarning: \n",
            "A value is trying to be set on a copy of a slice from a DataFrame.\n",
            "Try using .loc[row_indexer,col_indexer] = value instead\n",
            "\n",
            "See the caveats in the documentation: https://pandas.pydata.org/pandas-docs/stable/user_guide/indexing.html#returning-a-view-versus-a-copy\n",
            "  train_df[\"year\"] = train_df['date'].dt.year\n",
            "C:\\Users\\asus\\AppData\\Local\\Temp\\ipykernel_15680\\2250947963.py:2: SettingWithCopyWarning: \n",
            "A value is trying to be set on a copy of a slice from a DataFrame.\n",
            "Try using .loc[row_indexer,col_indexer] = value instead\n",
            "\n",
            "See the caveats in the documentation: https://pandas.pydata.org/pandas-docs/stable/user_guide/indexing.html#returning-a-view-versus-a-copy\n",
            "  train_df[\"month\"] = train_df['date'].dt.month\n"
          ]
        }
      ],
      "source": [
        "train_df[\"year\"] = train_df['date'].dt.year\n",
        "train_df[\"month\"] = train_df['date'].dt.month\n",
        "train_df[\"day\"] = train_df['date'].dt.day\n",
        "train_df.drop(columns=['date'], inplace=True)\n",
        "\n",
        "\n",
        "test[\"year\"] = test['date'].dt.year\n",
        "test[\"month\"] = test['date'].dt.month\n",
        "test[\"day\"] = test['date'].dt.day\n",
        "test.drop(columns=['date'], inplace=True)\n"
      ]
    },
    {
      "cell_type": "code",
      "execution_count": null,
      "metadata": {
        "id": "XdPGh0PkjcLe"
      },
      "outputs": [],
      "source": [
        "df = train_df"
      ]
    },
    {
      "cell_type": "code",
      "execution_count": null,
      "metadata": {
        "id": "sppUsNKljcLf"
      },
      "outputs": [],
      "source": [
        "\n",
        "df[\"day_sin\"] = np.sin(2 * np.pi * df[\"day\"] / 31)\n",
        "df[\"day_cos\"] = np.cos(2 * np.pi * df[\"day\"] / 31)\n",
        "df[\"month_sin\"] = np.sin(2 * np.pi * df[\"month\"] / 12)\n",
        "df[\"month_cos\"] = np.cos(2 * np.pi * df[\"month\"] / 12)\n",
        "\n",
        "test[\"day_sin\"] = np.sin(2 * np.pi * test[\"day\"] / 31)\n",
        "test[\"day_cos\"] = np.cos(2 * np.pi * test[\"day\"] / 31)\n",
        "test[\"month_sin\"] = np.sin(2 * np.pi * test[\"month\"] / 12)\n",
        "test[\"month_cos\"] = np.cos(2 * np.pi * test[\"month\"] / 12)\n"
      ]
    },
    {
      "cell_type": "code",
      "execution_count": null,
      "metadata": {
        "id": "C9_75-3ojcLf"
      },
      "outputs": [],
      "source": [
        "df.drop(df[df['quantity']<0].index, inplace=True)\n",
        "df.drop(columns = ['month', 'day'], inplace=True)\n",
        "test.drop(columns = ['month', 'day'], inplace=True)\n",
        "test.drop(columns=['row_id'],inplace=True)"
      ]
    },
    {
      "cell_type": "code",
      "execution_count": null,
      "metadata": {
        "id": "hSFWpoW8jcLg"
      },
      "outputs": [],
      "source": [
        "df=df[['item_id','store_id','year','day_sin','day_cos','month_sin','month_cos','quantity']]"
      ]
    },
    {
      "cell_type": "code",
      "execution_count": null,
      "metadata": {
        "id": "UyP9GgHxjcLh"
      },
      "outputs": [],
      "source": [
        "from sklearn.preprocessing import StandardScaler\n",
        "scaler = StandardScaler()\n",
        "\n",
        "columnstoscale = ['store_id','year']\n",
        "df[columnstoscale] = scaler.fit_transform(df[columnstoscale])\n",
        "\n",
        "columnstoscaletest = ['store_id','year']\n",
        "test[columnstoscaletest] = scaler.transform(test[columnstoscaletest])"
      ]
    },
    {
      "cell_type": "code",
      "execution_count": null,
      "metadata": {
        "id": "XNSWRhlEjcLi"
      },
      "outputs": [],
      "source": [
        "qty = ['quantity']\n",
        "df[qty] = scaler.fit_transform(df[qty])"
      ]
    },
    {
      "cell_type": "code",
      "execution_count": null,
      "metadata": {
        "id": "2_NoDDYqjcLi",
        "outputId": "ceac6de8-1f45-4eb4-990f-0ef8c1894f72"
      },
      "outputs": [
        {
          "data": {
            "text/html": [
              "<div>\n",
              "<style scoped>\n",
              "    .dataframe tbody tr th:only-of-type {\n",
              "        vertical-align: middle;\n",
              "    }\n",
              "\n",
              "    .dataframe tbody tr th {\n",
              "        vertical-align: top;\n",
              "    }\n",
              "\n",
              "    .dataframe thead th {\n",
              "        text-align: right;\n",
              "    }\n",
              "</style>\n",
              "<table border=\"1\" class=\"dataframe\">\n",
              "  <thead>\n",
              "    <tr style=\"text-align: right;\">\n",
              "      <th></th>\n",
              "      <th>item_id</th>\n",
              "      <th>store_id</th>\n",
              "      <th>year</th>\n",
              "      <th>day_sin</th>\n",
              "      <th>day_cos</th>\n",
              "      <th>month_sin</th>\n",
              "      <th>month_cos</th>\n",
              "      <th>quantity</th>\n",
              "    </tr>\n",
              "  </thead>\n",
              "  <tbody>\n",
              "    <tr>\n",
              "      <th>0</th>\n",
              "      <td>4aa8dbe05246</td>\n",
              "      <td>-0.813659</td>\n",
              "      <td>-0.514157</td>\n",
              "      <td>0.724793</td>\n",
              "      <td>0.688967</td>\n",
              "      <td>-0.866025</td>\n",
              "      <td>-0.5</td>\n",
              "      <td>-0.085601</td>\n",
              "    </tr>\n",
              "    <tr>\n",
              "      <th>1</th>\n",
              "      <td>4e0fbcf99cf9</td>\n",
              "      <td>-0.813659</td>\n",
              "      <td>-0.514157</td>\n",
              "      <td>0.724793</td>\n",
              "      <td>0.688967</td>\n",
              "      <td>-0.866025</td>\n",
              "      <td>-0.5</td>\n",
              "      <td>-0.124657</td>\n",
              "    </tr>\n",
              "    <tr>\n",
              "      <th>2</th>\n",
              "      <td>2e008b673129</td>\n",
              "      <td>-0.813659</td>\n",
              "      <td>-0.514157</td>\n",
              "      <td>0.724793</td>\n",
              "      <td>0.688967</td>\n",
              "      <td>-0.866025</td>\n",
              "      <td>-0.5</td>\n",
              "      <td>-0.124657</td>\n",
              "    </tr>\n",
              "    <tr>\n",
              "      <th>3</th>\n",
              "      <td>49db9c973903</td>\n",
              "      <td>-0.813659</td>\n",
              "      <td>-0.514157</td>\n",
              "      <td>0.724793</td>\n",
              "      <td>0.688967</td>\n",
              "      <td>-0.866025</td>\n",
              "      <td>-0.5</td>\n",
              "      <td>-0.163713</td>\n",
              "    </tr>\n",
              "    <tr>\n",
              "      <th>4</th>\n",
              "      <td>9d6072422e8e</td>\n",
              "      <td>-0.813659</td>\n",
              "      <td>-0.514157</td>\n",
              "      <td>0.724793</td>\n",
              "      <td>0.688967</td>\n",
              "      <td>-0.866025</td>\n",
              "      <td>-0.5</td>\n",
              "      <td>-0.163713</td>\n",
              "    </tr>\n",
              "  </tbody>\n",
              "</table>\n",
              "</div>"
            ],
            "text/plain": [
              "        item_id  store_id      year   day_sin   day_cos  month_sin  month_cos  \\\n",
              "0  4aa8dbe05246 -0.813659 -0.514157  0.724793  0.688967  -0.866025       -0.5   \n",
              "1  4e0fbcf99cf9 -0.813659 -0.514157  0.724793  0.688967  -0.866025       -0.5   \n",
              "2  2e008b673129 -0.813659 -0.514157  0.724793  0.688967  -0.866025       -0.5   \n",
              "3  49db9c973903 -0.813659 -0.514157  0.724793  0.688967  -0.866025       -0.5   \n",
              "4  9d6072422e8e -0.813659 -0.514157  0.724793  0.688967  -0.866025       -0.5   \n",
              "\n",
              "   quantity  \n",
              "0 -0.085601  \n",
              "1 -0.124657  \n",
              "2 -0.124657  \n",
              "3 -0.163713  \n",
              "4 -0.163713  "
            ]
          },
          "execution_count": 97,
          "metadata": {},
          "output_type": "execute_result"
        }
      ],
      "source": [
        "df.head()"
      ]
    },
    {
      "cell_type": "code",
      "execution_count": null,
      "metadata": {
        "id": "cV5zvGTTjcLk",
        "outputId": "bb7ff1da-ab8f-499d-fb8b-fa9c5c04b928"
      },
      "outputs": [
        {
          "data": {
            "text/html": [
              "<div>\n",
              "<style scoped>\n",
              "    .dataframe tbody tr th:only-of-type {\n",
              "        vertical-align: middle;\n",
              "    }\n",
              "\n",
              "    .dataframe tbody tr th {\n",
              "        vertical-align: top;\n",
              "    }\n",
              "\n",
              "    .dataframe thead th {\n",
              "        text-align: right;\n",
              "    }\n",
              "</style>\n",
              "<table border=\"1\" class=\"dataframe\">\n",
              "  <thead>\n",
              "    <tr style=\"text-align: right;\">\n",
              "      <th></th>\n",
              "      <th>item_id</th>\n",
              "      <th>store_id</th>\n",
              "      <th>year</th>\n",
              "      <th>day_sin</th>\n",
              "      <th>day_cos</th>\n",
              "      <th>month_sin</th>\n",
              "      <th>month_cos</th>\n",
              "    </tr>\n",
              "  </thead>\n",
              "  <tbody>\n",
              "    <tr>\n",
              "      <th>0</th>\n",
              "      <td>c578da8e8841</td>\n",
              "      <td>-0.813659</td>\n",
              "      <td>0.91972</td>\n",
              "      <td>-0.724793</td>\n",
              "      <td>0.688967</td>\n",
              "      <td>-1.0</td>\n",
              "      <td>-1.836970e-16</td>\n",
              "    </tr>\n",
              "    <tr>\n",
              "      <th>1</th>\n",
              "      <td>c578da8e8841</td>\n",
              "      <td>-0.813659</td>\n",
              "      <td>0.91972</td>\n",
              "      <td>-0.571268</td>\n",
              "      <td>0.820763</td>\n",
              "      <td>-1.0</td>\n",
              "      <td>-1.836970e-16</td>\n",
              "    </tr>\n",
              "    <tr>\n",
              "      <th>2</th>\n",
              "      <td>c578da8e8841</td>\n",
              "      <td>-0.813659</td>\n",
              "      <td>0.91972</td>\n",
              "      <td>-0.394356</td>\n",
              "      <td>0.918958</td>\n",
              "      <td>-1.0</td>\n",
              "      <td>-1.836970e-16</td>\n",
              "    </tr>\n",
              "    <tr>\n",
              "      <th>3</th>\n",
              "      <td>c578da8e8841</td>\n",
              "      <td>-0.813659</td>\n",
              "      <td>0.91972</td>\n",
              "      <td>-0.201299</td>\n",
              "      <td>0.979530</td>\n",
              "      <td>-1.0</td>\n",
              "      <td>-1.836970e-16</td>\n",
              "    </tr>\n",
              "    <tr>\n",
              "      <th>4</th>\n",
              "      <td>c578da8e8841</td>\n",
              "      <td>-0.813659</td>\n",
              "      <td>0.91972</td>\n",
              "      <td>0.897805</td>\n",
              "      <td>-0.440394</td>\n",
              "      <td>0.5</td>\n",
              "      <td>8.660254e-01</td>\n",
              "    </tr>\n",
              "  </tbody>\n",
              "</table>\n",
              "</div>"
            ],
            "text/plain": [
              "        item_id  store_id     year   day_sin   day_cos  month_sin  \\\n",
              "0  c578da8e8841 -0.813659  0.91972 -0.724793  0.688967       -1.0   \n",
              "1  c578da8e8841 -0.813659  0.91972 -0.571268  0.820763       -1.0   \n",
              "2  c578da8e8841 -0.813659  0.91972 -0.394356  0.918958       -1.0   \n",
              "3  c578da8e8841 -0.813659  0.91972 -0.201299  0.979530       -1.0   \n",
              "4  c578da8e8841 -0.813659  0.91972  0.897805 -0.440394        0.5   \n",
              "\n",
              "      month_cos  \n",
              "0 -1.836970e-16  \n",
              "1 -1.836970e-16  \n",
              "2 -1.836970e-16  \n",
              "3 -1.836970e-16  \n",
              "4  8.660254e-01  "
            ]
          },
          "execution_count": 98,
          "metadata": {},
          "output_type": "execute_result"
        }
      ],
      "source": [
        "test.head()"
      ]
    },
    {
      "cell_type": "code",
      "execution_count": null,
      "metadata": {
        "id": "w8oaAQOXjcLl",
        "outputId": "eee9e966-7ec6-48be-ef5c-283ef31485e7"
      },
      "outputs": [
        {
          "name": "stdout",
          "output_type": "stream",
          "text": [
            "✅ Train and Test datasets saved successfully!\n"
          ]
        }
      ],
      "source": [
        "# Save train and test DataFrames to CSV\n",
        "df.to_csv(\"cleaned_train.csv\", index=False)  # Saves without the index column\n",
        "test.to_csv(\"cleaned_test.csv\", index=False)\n",
        "\n",
        "print(\"Train and Test datasets saved successfully!\")\n"
      ]
    }
  ],
  "metadata": {
    "kernelspec": {
      "display_name": "Python (myenv)",
      "language": "python",
      "name": "myenv"
    },
    "language_info": {
      "codemirror_mode": {
        "name": "ipython",
        "version": 3
      },
      "file_extension": ".py",
      "mimetype": "text/x-python",
      "name": "python",
      "nbconvert_exporter": "python",
      "pygments_lexer": "ipython3",
      "version": "3.8.19"
    },
    "colab": {
      "provenance": [],
      "include_colab_link": true
    }
  },
  "nbformat": 4,
  "nbformat_minor": 0
}